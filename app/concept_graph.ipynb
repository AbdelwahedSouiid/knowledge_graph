{
 "cells": [
  {
   "cell_type": "markdown",
   "metadata": {},
   "source": [
    "# Create Network Graph\n"
   ]
  },
  {
   "cell_type": "markdown",
   "metadata": {},
   "source": [
    "Basic setup\n"
   ]
  },
  {
   "cell_type": "code",
   "execution_count": 5,
   "metadata": {},
   "outputs": [],
   "source": [
    "import pandas as pd\n",
    "import numpy as np\n",
    "from pyvis.network import Network\n",
    "import networkx as nx\n",
    "import seaborn as sns"
   ]
  },
  {
   "cell_type": "markdown",
   "metadata": {},
   "source": [
    "Loading previously calculated dataframes\n"
   ]
  },
  {
   "cell_type": "code",
   "execution_count": 6,
   "metadata": {},
   "outputs": [
    {
     "name": "stdout",
     "output_type": "stream",
     "text": [
      "(8, 5)\n"
     ]
    },
    {
     "data": {
      "text/html": [
       "<div>\n",
       "<style scoped>\n",
       "    .dataframe tbody tr th:only-of-type {\n",
       "        vertical-align: middle;\n",
       "    }\n",
       "\n",
       "    .dataframe tbody tr th {\n",
       "        vertical-align: top;\n",
       "    }\n",
       "\n",
       "    .dataframe thead th {\n",
       "        text-align: right;\n",
       "    }\n",
       "</style>\n",
       "<table border=\"1\" class=\"dataframe\">\n",
       "  <thead>\n",
       "    <tr style=\"text-align: right;\">\n",
       "      <th></th>\n",
       "      <th>entity</th>\n",
       "      <th>importance</th>\n",
       "      <th>category</th>\n",
       "      <th>chunk_id</th>\n",
       "      <th>type</th>\n",
       "    </tr>\n",
       "  </thead>\n",
       "  <tbody>\n",
       "    <tr>\n",
       "      <th>0</th>\n",
       "      <td>project management institute</td>\n",
       "      <td>4</td>\n",
       "      <td>Organisation</td>\n",
       "      <td>d6d60a0a59b748f19fca33c4dfcf26ee</td>\n",
       "      <td>concept</td>\n",
       "    </tr>\n",
       "    <tr>\n",
       "      <th>1</th>\n",
       "      <td>practice standard for project risk management</td>\n",
       "      <td>5</td>\n",
       "      <td>Document</td>\n",
       "      <td>d6d60a0a59b748f19fca33c4dfcf26ee</td>\n",
       "      <td>concept</td>\n",
       "    </tr>\n",
       "    <tr>\n",
       "      <th>2</th>\n",
       "      <td>identify risks process</td>\n",
       "      <td>5</td>\n",
       "      <td>Process</td>\n",
       "      <td>d6d60a0a59b748f19fca33c4dfcf26ee</td>\n",
       "      <td>concept</td>\n",
       "    </tr>\n",
       "    <tr>\n",
       "      <th>3</th>\n",
       "      <td>early identification</td>\n",
       "      <td>4</td>\n",
       "      <td>Concept</td>\n",
       "      <td>d6d60a0a59b748f19fca33c4dfcf26ee</td>\n",
       "      <td>concept</td>\n",
       "    </tr>\n",
       "    <tr>\n",
       "      <th>4</th>\n",
       "      <td>iterative identification</td>\n",
       "      <td>3</td>\n",
       "      <td>Concept</td>\n",
       "      <td>d6d60a0a59b748f19fca33c4dfcf26ee</td>\n",
       "      <td>concept</td>\n",
       "    </tr>\n",
       "  </tbody>\n",
       "</table>\n",
       "</div>"
      ],
      "text/plain": [
       "                                          entity  importance      category  \\\n",
       "0                   project management institute           4  Organisation   \n",
       "1  practice standard for project risk management           5      Document   \n",
       "2                         identify risks process           5       Process   \n",
       "3                           early identification           4       Concept   \n",
       "4                       iterative identification           3       Concept   \n",
       "\n",
       "                           chunk_id     type  \n",
       "0  d6d60a0a59b748f19fca33c4dfcf26ee  concept  \n",
       "1  d6d60a0a59b748f19fca33c4dfcf26ee  concept  \n",
       "2  d6d60a0a59b748f19fca33c4dfcf26ee  concept  \n",
       "3  d6d60a0a59b748f19fca33c4dfcf26ee  concept  \n",
       "4  d6d60a0a59b748f19fca33c4dfcf26ee  concept  "
      ]
     },
     "execution_count": 6,
     "metadata": {},
     "output_type": "execute_result"
    }
   ],
   "source": [
    "dataframe_dir = \"MediumArticles\"\n",
    "# df = pd.read_csv(f\"./data_output/{dataframe_dir}/chunks.csv\", sep=\"|\")\n",
    "df_concepts = pd.read_csv(f\"./data_output/concepts.csv\", sep=\"|\")\n",
    "print(df_concepts.shape)\n",
    "df_concepts.head()"
   ]
  },
  {
   "cell_type": "markdown",
   "metadata": {},
   "source": [
    "## Calculate Graph Dataframe\n"
   ]
  },
  {
   "cell_type": "markdown",
   "metadata": {},
   "source": [
    "Graph dataframe is a dataframe where every row is a connection between two nodes.\n",
    "\n",
    "It is basically an inner self join of the nodes dataframe\n"
   ]
  },
  {
   "cell_type": "code",
   "execution_count": 7,
   "metadata": {},
   "outputs": [
    {
     "name": "stdout",
     "output_type": "stream",
     "text": [
      "Total number of nodes =  56\n"
     ]
    },
    {
     "data": {
      "text/html": [
       "<div>\n",
       "<style scoped>\n",
       "    .dataframe tbody tr th:only-of-type {\n",
       "        vertical-align: middle;\n",
       "    }\n",
       "\n",
       "    .dataframe tbody tr th {\n",
       "        vertical-align: top;\n",
       "    }\n",
       "\n",
       "    .dataframe thead th {\n",
       "        text-align: right;\n",
       "    }\n",
       "</style>\n",
       "<table border=\"1\" class=\"dataframe\">\n",
       "  <thead>\n",
       "    <tr style=\"text-align: right;\">\n",
       "      <th></th>\n",
       "      <th>index</th>\n",
       "      <th>entity_L</th>\n",
       "      <th>importance_L</th>\n",
       "      <th>category_L</th>\n",
       "      <th>chunk_id</th>\n",
       "      <th>type_L</th>\n",
       "      <th>entity_R</th>\n",
       "      <th>importance_R</th>\n",
       "      <th>category_R</th>\n",
       "      <th>type_R</th>\n",
       "    </tr>\n",
       "  </thead>\n",
       "  <tbody>\n",
       "    <tr>\n",
       "      <th>0</th>\n",
       "      <td>1</td>\n",
       "      <td>project management institute</td>\n",
       "      <td>4</td>\n",
       "      <td>Organisation</td>\n",
       "      <td>d6d60a0a59b748f19fca33c4dfcf26ee</td>\n",
       "      <td>concept</td>\n",
       "      <td>practice standard for project risk management</td>\n",
       "      <td>5</td>\n",
       "      <td>Document</td>\n",
       "      <td>concept</td>\n",
       "    </tr>\n",
       "    <tr>\n",
       "      <th>1</th>\n",
       "      <td>2</td>\n",
       "      <td>project management institute</td>\n",
       "      <td>4</td>\n",
       "      <td>Organisation</td>\n",
       "      <td>d6d60a0a59b748f19fca33c4dfcf26ee</td>\n",
       "      <td>concept</td>\n",
       "      <td>identify risks process</td>\n",
       "      <td>5</td>\n",
       "      <td>Process</td>\n",
       "      <td>concept</td>\n",
       "    </tr>\n",
       "    <tr>\n",
       "      <th>2</th>\n",
       "      <td>3</td>\n",
       "      <td>project management institute</td>\n",
       "      <td>4</td>\n",
       "      <td>Organisation</td>\n",
       "      <td>d6d60a0a59b748f19fca33c4dfcf26ee</td>\n",
       "      <td>concept</td>\n",
       "      <td>early identification</td>\n",
       "      <td>4</td>\n",
       "      <td>Concept</td>\n",
       "      <td>concept</td>\n",
       "    </tr>\n",
       "    <tr>\n",
       "      <th>3</th>\n",
       "      <td>4</td>\n",
       "      <td>project management institute</td>\n",
       "      <td>4</td>\n",
       "      <td>Organisation</td>\n",
       "      <td>d6d60a0a59b748f19fca33c4dfcf26ee</td>\n",
       "      <td>concept</td>\n",
       "      <td>iterative identification</td>\n",
       "      <td>3</td>\n",
       "      <td>Concept</td>\n",
       "      <td>concept</td>\n",
       "    </tr>\n",
       "    <tr>\n",
       "      <th>4</th>\n",
       "      <td>5</td>\n",
       "      <td>project management institute</td>\n",
       "      <td>4</td>\n",
       "      <td>Organisation</td>\n",
       "      <td>d6d60a0a59b748f19fca33c4dfcf26ee</td>\n",
       "      <td>concept</td>\n",
       "      <td>emergent identification</td>\n",
       "      <td>3</td>\n",
       "      <td>Concept</td>\n",
       "      <td>concept</td>\n",
       "    </tr>\n",
       "  </tbody>\n",
       "</table>\n",
       "</div>"
      ],
      "text/plain": [
       "   index                      entity_L  importance_L    category_L  \\\n",
       "0      1  project management institute             4  Organisation   \n",
       "1      2  project management institute             4  Organisation   \n",
       "2      3  project management institute             4  Organisation   \n",
       "3      4  project management institute             4  Organisation   \n",
       "4      5  project management institute             4  Organisation   \n",
       "\n",
       "                           chunk_id   type_L  \\\n",
       "0  d6d60a0a59b748f19fca33c4dfcf26ee  concept   \n",
       "1  d6d60a0a59b748f19fca33c4dfcf26ee  concept   \n",
       "2  d6d60a0a59b748f19fca33c4dfcf26ee  concept   \n",
       "3  d6d60a0a59b748f19fca33c4dfcf26ee  concept   \n",
       "4  d6d60a0a59b748f19fca33c4dfcf26ee  concept   \n",
       "\n",
       "                                        entity_R  importance_R category_R  \\\n",
       "0  practice standard for project risk management             5   Document   \n",
       "1                         identify risks process             5    Process   \n",
       "2                           early identification             4    Concept   \n",
       "3                       iterative identification             3    Concept   \n",
       "4                        emergent identification             3    Concept   \n",
       "\n",
       "    type_R  \n",
       "0  concept  \n",
       "1  concept  \n",
       "2  concept  \n",
       "3  concept  \n",
       "4  concept  "
      ]
     },
     "execution_count": 7,
     "metadata": {},
     "output_type": "execute_result"
    }
   ],
   "source": [
    "dfne_join = pd.merge(\n",
    "    df_concepts, df_concepts, how=\"inner\", on=\"chunk_id\", suffixes=(\"_L\", \"_R\")\n",
    ")\n",
    "\n",
    "## Remove self Loops\n",
    "self_loops_drop = dfne_join[dfne_join[\"entity_L\"] == dfne_join[\"entity_R\"]].index\n",
    "dfg = dfne_join.drop(index=self_loops_drop).reset_index()\n",
    "\n",
    "## This is our graph dataframe\n",
    "print(\"Total number of nodes = \", dfg.shape[0])\n",
    "dfg.head()"
   ]
  },
  {
   "cell_type": "markdown",
   "metadata": {},
   "source": [
    "#### Clean the graph dataframe\n"
   ]
  },
  {
   "cell_type": "markdown",
   "metadata": {},
   "source": [
    "The original graph dataframe is too big to visualise. So we will make another dataframe for visualisation purpose.\n",
    "\n",
    "-   remove the less important nodes\n",
    "-   remove less important edges\n"
   ]
  },
  {
   "cell_type": "code",
   "execution_count": 8,
   "metadata": {},
   "outputs": [
    {
     "name": "stdout",
     "output_type": "stream",
     "text": [
      "Less important Nodes =  0 \n",
      "Less Important Edges =  0\n"
     ]
    }
   ],
   "source": [
    "## Drop nodes which are less important\n",
    "less_important_nodes = dfg[(dfg[\"importance_L\"] < 2)].index\n",
    "## Drop edges where both the nodes are less important than 5\n",
    "less_important_edges = dfg[(dfg[\"importance_L\"] < 2) & (dfg[\"importance_R\"] < 2)].index\n",
    "drops = less_important_nodes.union(less_important_edges)\n",
    "\n",
    "print(\n",
    "    \"Less important Nodes = \",\n",
    "    less_important_nodes.shape[0],\n",
    "    \"\\nLess Important Edges = \",\n",
    "    less_important_edges.shape[0],\n",
    ")\n",
    "\n",
    "## Remove these rows from the graph dataframe\n",
    "dfg_vis = dfg.drop(index=drops).reset_index()\n"
   ]
  },
  {
   "cell_type": "markdown",
   "metadata": {},
   "source": [
    "### Combine similar edges\n",
    "\n",
    "Group the edges between the same nodes and combine them into single edge with its weight equal to the count. "
   ]
  },
  {
   "cell_type": "code",
   "execution_count": 9,
   "metadata": {},
   "outputs": [
    {
     "name": "stdout",
     "output_type": "stream",
     "text": [
      "Final Number of Edges in the Visualisation Graph =  56\n"
     ]
    },
    {
     "data": {
      "text/html": [
       "<div>\n",
       "<style scoped>\n",
       "    .dataframe tbody tr th:only-of-type {\n",
       "        vertical-align: middle;\n",
       "    }\n",
       "\n",
       "    .dataframe tbody tr th {\n",
       "        vertical-align: top;\n",
       "    }\n",
       "\n",
       "    .dataframe thead th {\n",
       "        text-align: right;\n",
       "    }\n",
       "</style>\n",
       "<table border=\"1\" class=\"dataframe\">\n",
       "  <thead>\n",
       "    <tr style=\"text-align: right;\">\n",
       "      <th></th>\n",
       "      <th>entity_L</th>\n",
       "      <th>entity_R</th>\n",
       "      <th>importance_L</th>\n",
       "      <th>importance_R</th>\n",
       "      <th>chunks</th>\n",
       "      <th>count</th>\n",
       "    </tr>\n",
       "  </thead>\n",
       "  <tbody>\n",
       "    <tr>\n",
       "      <th>0</th>\n",
       "      <td>comprehensive identification</td>\n",
       "      <td>early identification</td>\n",
       "      <td>3.0</td>\n",
       "      <td>4.0</td>\n",
       "      <td>d6d60a0a59b748f19fca33c4dfcf26ee</td>\n",
       "      <td>1</td>\n",
       "    </tr>\n",
       "    <tr>\n",
       "      <th>1</th>\n",
       "      <td>comprehensive identification</td>\n",
       "      <td>emergent identification</td>\n",
       "      <td>3.0</td>\n",
       "      <td>3.0</td>\n",
       "      <td>d6d60a0a59b748f19fca33c4dfcf26ee</td>\n",
       "      <td>1</td>\n",
       "    </tr>\n",
       "    <tr>\n",
       "      <th>2</th>\n",
       "      <td>comprehensive identification</td>\n",
       "      <td>explicit identification of opportunities</td>\n",
       "      <td>3.0</td>\n",
       "      <td>3.0</td>\n",
       "      <td>d6d60a0a59b748f19fca33c4dfcf26ee</td>\n",
       "      <td>1</td>\n",
       "    </tr>\n",
       "    <tr>\n",
       "      <th>3</th>\n",
       "      <td>comprehensive identification</td>\n",
       "      <td>identify risks process</td>\n",
       "      <td>3.0</td>\n",
       "      <td>5.0</td>\n",
       "      <td>d6d60a0a59b748f19fca33c4dfcf26ee</td>\n",
       "      <td>1</td>\n",
       "    </tr>\n",
       "    <tr>\n",
       "      <th>4</th>\n",
       "      <td>comprehensive identification</td>\n",
       "      <td>iterative identification</td>\n",
       "      <td>3.0</td>\n",
       "      <td>3.0</td>\n",
       "      <td>d6d60a0a59b748f19fca33c4dfcf26ee</td>\n",
       "      <td>1</td>\n",
       "    </tr>\n",
       "  </tbody>\n",
       "</table>\n",
       "</div>"
      ],
      "text/plain": [
       "                       entity_L                                  entity_R  \\\n",
       "0  comprehensive identification                      early identification   \n",
       "1  comprehensive identification                   emergent identification   \n",
       "2  comprehensive identification  explicit identification of opportunities   \n",
       "3  comprehensive identification                    identify risks process   \n",
       "4  comprehensive identification                  iterative identification   \n",
       "\n",
       "   importance_L  importance_R                            chunks  count  \n",
       "0           3.0           4.0  d6d60a0a59b748f19fca33c4dfcf26ee      1  \n",
       "1           3.0           3.0  d6d60a0a59b748f19fca33c4dfcf26ee      1  \n",
       "2           3.0           3.0  d6d60a0a59b748f19fca33c4dfcf26ee      1  \n",
       "3           3.0           5.0  d6d60a0a59b748f19fca33c4dfcf26ee      1  \n",
       "4           3.0           3.0  d6d60a0a59b748f19fca33c4dfcf26ee      1  "
      ]
     },
     "execution_count": 9,
     "metadata": {},
     "output_type": "execute_result"
    }
   ],
   "source": [
    "\n",
    "## Group and aggregate edges.\n",
    "dfg_vis = (\n",
    "    dfg_vis.groupby([\"entity_L\", \"entity_R\"])\n",
    "    .agg(\n",
    "        {\n",
    "            \"importance_L\": \"mean\",\n",
    "            \"importance_R\": \"mean\",\n",
    "            \"chunk_id\": [\",\".join, \"count\"],\n",
    "        }\n",
    "    )\n",
    "    .reset_index()\n",
    ")\n",
    "dfg_vis.columns = [\n",
    "    \"entity_L\",\n",
    "    \"entity_R\",\n",
    "    \"importance_L\",\n",
    "    \"importance_R\",\n",
    "    \"chunks\",\n",
    "    \"count\",\n",
    "]\n",
    "\n",
    "print(\"Final Number of Edges in the Visualisation Graph = \", dfg_vis.shape[0])\n",
    "dfg_vis.head()"
   ]
  },
  {
   "cell_type": "markdown",
   "metadata": {},
   "source": [
    "### Removing overconnected nodes\n",
    "\n",
    "These are featured in the header and the footer of the pdf file, so they are a little too connected.\n"
   ]
  },
  {
   "cell_type": "code",
   "execution_count": 10,
   "metadata": {},
   "outputs": [
    {
     "name": "stdout",
     "output_type": "stream",
     "text": [
      "Final Number of Edges  =  56 \n",
      "Dropped edges: 0\n"
     ]
    },
    {
     "data": {
      "text/html": [
       "<div>\n",
       "<style scoped>\n",
       "    .dataframe tbody tr th:only-of-type {\n",
       "        vertical-align: middle;\n",
       "    }\n",
       "\n",
       "    .dataframe tbody tr th {\n",
       "        vertical-align: top;\n",
       "    }\n",
       "\n",
       "    .dataframe thead th {\n",
       "        text-align: right;\n",
       "    }\n",
       "</style>\n",
       "<table border=\"1\" class=\"dataframe\">\n",
       "  <thead>\n",
       "    <tr style=\"text-align: right;\">\n",
       "      <th></th>\n",
       "      <th>entity_L</th>\n",
       "      <th>entity_R</th>\n",
       "      <th>importance_L</th>\n",
       "      <th>importance_R</th>\n",
       "      <th>chunks</th>\n",
       "      <th>count</th>\n",
       "    </tr>\n",
       "  </thead>\n",
       "  <tbody>\n",
       "    <tr>\n",
       "      <th>0</th>\n",
       "      <td>comprehensive identification</td>\n",
       "      <td>early identification</td>\n",
       "      <td>3.0</td>\n",
       "      <td>4.0</td>\n",
       "      <td>d6d60a0a59b748f19fca33c4dfcf26ee</td>\n",
       "      <td>1</td>\n",
       "    </tr>\n",
       "    <tr>\n",
       "      <th>1</th>\n",
       "      <td>comprehensive identification</td>\n",
       "      <td>emergent identification</td>\n",
       "      <td>3.0</td>\n",
       "      <td>3.0</td>\n",
       "      <td>d6d60a0a59b748f19fca33c4dfcf26ee</td>\n",
       "      <td>1</td>\n",
       "    </tr>\n",
       "    <tr>\n",
       "      <th>2</th>\n",
       "      <td>comprehensive identification</td>\n",
       "      <td>explicit identification of opportunities</td>\n",
       "      <td>3.0</td>\n",
       "      <td>3.0</td>\n",
       "      <td>d6d60a0a59b748f19fca33c4dfcf26ee</td>\n",
       "      <td>1</td>\n",
       "    </tr>\n",
       "    <tr>\n",
       "      <th>3</th>\n",
       "      <td>comprehensive identification</td>\n",
       "      <td>identify risks process</td>\n",
       "      <td>3.0</td>\n",
       "      <td>5.0</td>\n",
       "      <td>d6d60a0a59b748f19fca33c4dfcf26ee</td>\n",
       "      <td>1</td>\n",
       "    </tr>\n",
       "    <tr>\n",
       "      <th>4</th>\n",
       "      <td>comprehensive identification</td>\n",
       "      <td>iterative identification</td>\n",
       "      <td>3.0</td>\n",
       "      <td>3.0</td>\n",
       "      <td>d6d60a0a59b748f19fca33c4dfcf26ee</td>\n",
       "      <td>1</td>\n",
       "    </tr>\n",
       "  </tbody>\n",
       "</table>\n",
       "</div>"
      ],
      "text/plain": [
       "                       entity_L                                  entity_R  \\\n",
       "0  comprehensive identification                      early identification   \n",
       "1  comprehensive identification                   emergent identification   \n",
       "2  comprehensive identification  explicit identification of opportunities   \n",
       "3  comprehensive identification                    identify risks process   \n",
       "4  comprehensive identification                  iterative identification   \n",
       "\n",
       "   importance_L  importance_R                            chunks  count  \n",
       "0           3.0           4.0  d6d60a0a59b748f19fca33c4dfcf26ee      1  \n",
       "1           3.0           3.0  d6d60a0a59b748f19fca33c4dfcf26ee      1  \n",
       "2           3.0           3.0  d6d60a0a59b748f19fca33c4dfcf26ee      1  \n",
       "3           3.0           5.0  d6d60a0a59b748f19fca33c4dfcf26ee      1  \n",
       "4           3.0           3.0  d6d60a0a59b748f19fca33c4dfcf26ee      1  "
      ]
     },
     "execution_count": 10,
     "metadata": {},
     "output_type": "execute_result"
    }
   ],
   "source": [
    "ind = dfg_vis[\n",
    "    dfg_vis[\"entity_L\"].isin(\n",
    "        [\"Pathways to Health Equity for the G20\", \"Accelerating Global Health\"]\n",
    "    )\n",
    "    | dfg_vis[\"entity_R\"].isin(\n",
    "        [\"Pathways to Health Equity for the G20\", \"Accelerating Global Health\"]\n",
    "    )\n",
    "].index\n",
    "dfg_vis.drop(index=ind, axis=1, inplace=True)\n",
    "print(\"Final Number of Edges  = \", dfg_vis.shape[0], \"\\nDropped edges:\", len(ind))\n",
    "dfg_vis.head()"
   ]
  },
  {
   "cell_type": "markdown",
   "metadata": {},
   "source": [
    "## Creating a NetworkX Graph\n"
   ]
  },
  {
   "cell_type": "markdown",
   "metadata": {},
   "source": [
    "Calculate nodes\n",
    "\n",
    "Here I am grouping the graph dataframe by left node and calculating the mean importance. This way we will end up with only the unique nodes from the graph dataframe along with their weights.\n"
   ]
  },
  {
   "cell_type": "code",
   "execution_count": 11,
   "metadata": {},
   "outputs": [
    {
     "data": {
      "text/html": [
       "<div>\n",
       "<style scoped>\n",
       "    .dataframe tbody tr th:only-of-type {\n",
       "        vertical-align: middle;\n",
       "    }\n",
       "\n",
       "    .dataframe tbody tr th {\n",
       "        vertical-align: top;\n",
       "    }\n",
       "\n",
       "    .dataframe thead th {\n",
       "        text-align: right;\n",
       "    }\n",
       "</style>\n",
       "<table border=\"1\" class=\"dataframe\">\n",
       "  <thead>\n",
       "    <tr style=\"text-align: right;\">\n",
       "      <th></th>\n",
       "      <th>entity_L</th>\n",
       "      <th>importance_L</th>\n",
       "    </tr>\n",
       "  </thead>\n",
       "  <tbody>\n",
       "    <tr>\n",
       "      <th>0</th>\n",
       "      <td>comprehensive identification</td>\n",
       "      <td>3.0</td>\n",
       "    </tr>\n",
       "    <tr>\n",
       "      <th>1</th>\n",
       "      <td>early identification</td>\n",
       "      <td>4.0</td>\n",
       "    </tr>\n",
       "    <tr>\n",
       "      <th>2</th>\n",
       "      <td>emergent identification</td>\n",
       "      <td>3.0</td>\n",
       "    </tr>\n",
       "    <tr>\n",
       "      <th>3</th>\n",
       "      <td>explicit identification of opportunities</td>\n",
       "      <td>3.0</td>\n",
       "    </tr>\n",
       "    <tr>\n",
       "      <th>4</th>\n",
       "      <td>identify risks process</td>\n",
       "      <td>5.0</td>\n",
       "    </tr>\n",
       "  </tbody>\n",
       "</table>\n",
       "</div>"
      ],
      "text/plain": [
       "                                   entity_L  importance_L\n",
       "0              comprehensive identification           3.0\n",
       "1                      early identification           4.0\n",
       "2                   emergent identification           3.0\n",
       "3  explicit identification of opportunities           3.0\n",
       "4                    identify risks process           5.0"
      ]
     },
     "execution_count": 11,
     "metadata": {},
     "output_type": "execute_result"
    }
   ],
   "source": [
    "# nodes = df_graph[\"entity_L\"].unique()\n",
    "nodes = dfg_vis.groupby([\"entity_L\"]).agg({\"importance_L\": \"mean\"}).reset_index()\n",
    "nodes.head()"
   ]
  },
  {
   "cell_type": "markdown",
   "metadata": {},
   "source": [
    "Build a NetworkX object with nodes and edges\n"
   ]
  },
  {
   "cell_type": "code",
   "execution_count": 12,
   "metadata": {},
   "outputs": [],
   "source": [
    "G = nx.Graph()\n",
    "for index, row in nodes.iterrows():\n",
    "    G.add_node(row[\"entity_L\"])\n",
    "\n",
    "for index, row in dfg_vis.iterrows():\n",
    "    G.add_edge(str(row[\"entity_L\"]), str(row[\"entity_R\"]))"
   ]
  },
  {
   "cell_type": "markdown",
   "metadata": {},
   "source": [
    "### Community Detection\n"
   ]
  },
  {
   "cell_type": "markdown",
   "metadata": {},
   "source": [
    "Detect communities using the Girvan Newman algorithm\n"
   ]
  },
  {
   "cell_type": "code",
   "execution_count": 13,
   "metadata": {},
   "outputs": [
    {
     "name": "stdout",
     "output_type": "stream",
     "text": [
      "Number of Communities =  3\n"
     ]
    }
   ],
   "source": [
    "communities_generator = nx.community.girvan_newman(G)\n",
    "top_level_communities = next(communities_generator)\n",
    "next_level_communities = next(communities_generator)\n",
    "communities = sorted(map(sorted, next_level_communities))\n",
    "print(\"Number of Communities = \", len(communities))"
   ]
  },
  {
   "cell_type": "markdown",
   "metadata": {},
   "source": [
    "Add colors to nodes based on community\n"
   ]
  },
  {
   "cell_type": "code",
   "execution_count": 14,
   "metadata": {},
   "outputs": [
    {
     "data": {
      "text/html": [
       "<div>\n",
       "<style scoped>\n",
       "    .dataframe tbody tr th:only-of-type {\n",
       "        vertical-align: middle;\n",
       "    }\n",
       "\n",
       "    .dataframe tbody tr th {\n",
       "        vertical-align: top;\n",
       "    }\n",
       "\n",
       "    .dataframe thead th {\n",
       "        text-align: right;\n",
       "    }\n",
       "</style>\n",
       "<table border=\"1\" class=\"dataframe\">\n",
       "  <thead>\n",
       "    <tr style=\"text-align: right;\">\n",
       "      <th></th>\n",
       "      <th>entity_L</th>\n",
       "      <th>importance_L</th>\n",
       "      <th>color</th>\n",
       "      <th>group</th>\n",
       "    </tr>\n",
       "  </thead>\n",
       "  <tbody>\n",
       "    <tr>\n",
       "      <th>0</th>\n",
       "      <td>comprehensive identification</td>\n",
       "      <td>3.0</td>\n",
       "      <td>#5f57db</td>\n",
       "      <td>1</td>\n",
       "    </tr>\n",
       "    <tr>\n",
       "      <th>1</th>\n",
       "      <td>early identification</td>\n",
       "      <td>4.0</td>\n",
       "      <td>#57db5f</td>\n",
       "      <td>2</td>\n",
       "    </tr>\n",
       "    <tr>\n",
       "      <th>2</th>\n",
       "      <td>emergent identification</td>\n",
       "      <td>3.0</td>\n",
       "      <td>#db5f57</td>\n",
       "      <td>3</td>\n",
       "    </tr>\n",
       "    <tr>\n",
       "      <th>3</th>\n",
       "      <td>explicit identification of opportunities</td>\n",
       "      <td>3.0</td>\n",
       "      <td>#db5f57</td>\n",
       "      <td>3</td>\n",
       "    </tr>\n",
       "    <tr>\n",
       "      <th>4</th>\n",
       "      <td>identify risks process</td>\n",
       "      <td>5.0</td>\n",
       "      <td>#db5f57</td>\n",
       "      <td>3</td>\n",
       "    </tr>\n",
       "  </tbody>\n",
       "</table>\n",
       "</div>"
      ],
      "text/plain": [
       "                                   entity_L  importance_L    color  group\n",
       "0              comprehensive identification           3.0  #5f57db      1\n",
       "1                      early identification           4.0  #57db5f      2\n",
       "2                   emergent identification           3.0  #db5f57      3\n",
       "3  explicit identification of opportunities           3.0  #db5f57      3\n",
       "4                    identify risks process           5.0  #db5f57      3"
      ]
     },
     "execution_count": 14,
     "metadata": {},
     "output_type": "execute_result"
    }
   ],
   "source": [
    "palette = \"hls\"\n",
    "\n",
    "\n",
    "## Now add these colors to communities and make another dataframe\n",
    "def colors2Community(communities) -> pd.DataFrame:\n",
    "    ## Define a color palette\n",
    "    p = sns.color_palette(palette, len(communities)).as_hex()\n",
    "    rows = []\n",
    "    group = 0\n",
    "    for community in communities:\n",
    "        color = p.pop()\n",
    "        group += 1\n",
    "        for node in community:\n",
    "            rows += [{\"entity_L\": node, \"color\": color, \"group\": group}]\n",
    "    df_colors = pd.DataFrame(rows)\n",
    "    return df_colors\n",
    "\n",
    "\n",
    "colors = colors2Community(communities)\n",
    "\n",
    "df_nodes_colors = pd.merge(\n",
    "    nodes, colors, how=\"left\", on=\"entity_L\", suffixes=(\"_N\", \"_C\")\n",
    ")\n",
    "# nodes.head()\n",
    "df_nodes_colors.head()"
   ]
  },
  {
   "cell_type": "markdown",
   "metadata": {},
   "source": [
    "So now we have a nodes dataframe with colors and sizes of each node.\n",
    "\n",
    "lets recreate our graph.\n"
   ]
  },
  {
   "cell_type": "code",
   "execution_count": 15,
   "metadata": {},
   "outputs": [],
   "source": [
    "G = nx.Graph()\n",
    "node_size_multiple = 6\n",
    "\n",
    "for index, row in df_nodes_colors.iterrows():\n",
    "    G.add_node(\n",
    "        row[\"entity_L\"],\n",
    "        size=row[\"importance_L\"] * node_size_multiple,\n",
    "        title=row[\"entity_L\"],\n",
    "        color=row[\"color\"],\n",
    "    )\n",
    "\n",
    "for index, row in dfg_vis.iterrows():\n",
    "    G.add_edge(\n",
    "        str(row[\"entity_L\"]),\n",
    "        str(row[\"entity_R\"]),\n",
    "        weight=row[\"count\"],\n",
    "        name=row[\"chunks\"],\n",
    "    )"
   ]
  },
  {
   "cell_type": "markdown",
   "metadata": {},
   "source": [
    "## Visualisation\n"
   ]
  },
  {
   "cell_type": "code",
   "execution_count": 19,
   "metadata": {},
   "outputs": [
    {
     "name": "stdout",
     "output_type": "stream",
     "text": [
      "docs/index.html\n"
     ]
    }
   ],
   "source": [
    "graph_output_directory = \"docs/index.html\"\n",
    "\n",
    "net = Network(\n",
    "    notebook=False,\n",
    "    bgcolor=\"#1a1a1a\",\n",
    "    cdn_resources=\"remote\",\n",
    "    height=\"900px\",\n",
    "    width=\"100%\",\n",
    "    select_menu=True,\n",
    "    font_color=\"#cccccc\",\n",
    "    # filter_menu=True,\n",
    ")\n",
    "\n",
    "net.from_nx(G)\n",
    "net.repulsion(node_distance=150, spring_length=400)\n",
    "# net.barnes_hut(gravity=-18100, central_gravity=5.05, spring_length=380)\n",
    "net.show_buttons(filter_=[\"physics\"])\n",
    "\n",
    "net.show(graph_output_directory, notebook=False)"
   ]
  },
  {
   "cell_type": "code",
   "execution_count": null,
   "metadata": {},
   "outputs": [],
   "source": []
  },
  {
   "cell_type": "code",
   "execution_count": null,
   "metadata": {},
   "outputs": [],
   "source": []
  }
 ],
 "metadata": {
  "kernelspec": {
   "display_name": "myenv",
   "language": "python",
   "name": "python3"
  },
  "language_info": {
   "codemirror_mode": {
    "name": "ipython",
    "version": 3
   },
   "file_extension": ".py",
   "mimetype": "text/x-python",
   "name": "python",
   "nbconvert_exporter": "python",
   "pygments_lexer": "ipython3",
   "version": "3.12.4"
  }
 },
 "nbformat": 4,
 "nbformat_minor": 2
}
