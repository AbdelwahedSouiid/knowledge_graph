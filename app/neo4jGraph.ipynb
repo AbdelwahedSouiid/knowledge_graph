{
 "cells": [
  {
   "cell_type": "code",
   "execution_count": 43,
   "metadata": {},
   "outputs": [],
   "source": [
    "from neo4j import GraphDatabase\n",
    "\n",
    "class Neo4jGraphBuilder:\n",
    "    def __init__(self, uri, user, password, database):\n",
    "        self.driver = GraphDatabase.driver(uri, auth=(user, password), database=database)\n",
    "\n",
    "    def close(self):\n",
    "        self.driver.close()\n",
    "\n",
    "    def create_node(self, concept):\n",
    "        with self.driver.session() as session:\n",
    "            session.run(\n",
    "                \"MERGE (c:Concept {name: $name})\",\n",
    "                name=concept\n",
    "            )\n",
    "\n",
    "    def create_relationship(self, node1, node2, relationship):\n",
    "        with self.driver.session() as session:\n",
    "            session.run(\n",
    "                f\"MATCH (a:Concept {{name: $node1}}), (b:Concept {{name: $node2}}) \"\n",
    "                f\"MERGE (a)-[:{relationship}]->(b)\",\n",
    "                node1=node1,\n",
    "                node2=node2\n",
    "            )\n",
    "\n"
   ]
  },
  {
   "cell_type": "code",
   "execution_count": 7,
   "metadata": {},
   "outputs": [],
   "source": [
    "\n",
    "import pandas as pd\n",
    "# Exemple de fonction pour construire le graphe\n",
    "def build_graph(graph_file):\n",
    "    # Remplacez par vos informations de connexion\n",
    "    uri = \"bolt://localhost:7687\"\n",
    "    user = \"neo4j\"\n",
    "    password = \"abdou12345;\"\n",
    "    database = \"database\"\n",
    "\n",
    "    # Instanciation de la classe de construction du graphe\n",
    "    graph_builder = Neo4jGraphBuilder(uri, user, password, database)\n",
    "\n",
    "    # Lire le fichier CSV avec pandas\n",
    "    df = pd.read_csv(graph_file, sep=\"|\")  # Assurez-vous que le fichier CSV utilise '|' comme séparateur\n",
    "\n",
    "    # Parcourir chaque ligne du DataFrame pour créer des nœuds et des relations\n",
    "    for index, row in df.iterrows():\n",
    "        node1 = row['node_1']\n",
    "        node2 = row['node_2']\n",
    "        relationship = row['edge']\n",
    "\n",
    "        # Création des nœuds\n",
    "        graph_builder.create_node(node1)\n",
    "        graph_builder.create_node(node2)\n",
    "\n",
    "        # Créer une relation entre node1 et node2\n",
    "        graph_builder.create_relationship(node1, node2, relationship)\n",
    "\n",
    "    # Fermer la connexion à la base de données\n",
    "    graph_builder.close()"
   ]
  },
  {
   "cell_type": "code",
   "execution_count": 8,
   "metadata": {},
   "outputs": [],
   "source": [
    "# Exemple d'utilisation\n",
    "graph_file = 'data_output/graph.csv'\n",
    "# Construire le graphe\n",
    "build_graph(graph_file)"
   ]
  },
  {
   "cell_type": "markdown",
   "metadata": {},
   "source": []
  }
 ],
 "metadata": {
  "kernelspec": {
   "display_name": "myenv",
   "language": "python",
   "name": "python3"
  },
  "language_info": {
   "codemirror_mode": {
    "name": "ipython",
    "version": 3
   },
   "file_extension": ".py",
   "mimetype": "text/x-python",
   "name": "python",
   "nbconvert_exporter": "python",
   "pygments_lexer": "ipython3",
   "version": "3.12.4"
  }
 },
 "nbformat": 4,
 "nbformat_minor": 2
}
