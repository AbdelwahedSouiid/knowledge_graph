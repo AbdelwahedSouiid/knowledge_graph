{
 "cells": [
  {
   "cell_type": "code",
   "execution_count": 43,
   "metadata": {},
   "outputs": [],
   "source": [
    "from neo4j import GraphDatabase\n",
    "\n",
    "class Neo4jGraphBuilder:\n",
    "    def __init__(self, uri, user, password, database):\n",
    "        self.driver = GraphDatabase.driver(uri, auth=(user, password), database=database)\n",
    "\n",
    "    def close(self):\n",
    "        self.driver.close()\n",
    "\n",
    "    def create_node(self, concept):\n",
    "        with self.driver.session() as session:\n",
    "            session.run(\n",
    "                \"MERGE (c:Concept {name: $name})\",\n",
    "                name=concept\n",
    "            )\n",
    "\n",
    "    def create_relationship(self, node1, node2, relationship):\n",
    "        with self.driver.session() as session:\n",
    "            session.run(\n",
    "                f\"MATCH (a:Concept {{name: $node1}}), (b:Concept {{name: $node2}}) \"\n",
    "                f\"MERGE (a)-[:{relationship}]->(b)\",\n",
    "                node1=node1,\n",
    "                node2=node2\n",
    "            )\n",
    "\n"
   ]
  },
  {
   "cell_type": "code",
   "execution_count": 49,
   "metadata": {},
   "outputs": [],
   "source": [
    "# Exemple de fonction pour construire le graphe\n",
    "def build_graph(concept_list):\n",
    "    # Remplacez les valeurs par celles correspondant à votre configuration\n",
    "    uri = \"bolt://localhost:7687\"  \n",
    "    user = \"neo4j\"                \n",
    "    password = \"abdou12345;\"  \n",
    "    database = \"database\"  # Spécifiez le nom de la base de données ici\n",
    "    \n",
    "    # Instanciation de la classe de construction du graphe\n",
    "    graph_builder = Neo4jGraphBuilder(uri, user, password, database)  # Remplacez par vos informations\n",
    "\n",
    "    # Parcours de la liste de concepts pour créer des nœuds et des relations\n",
    "    for concept in concept_list:\n",
    "        node1 = concept.get(\"node_1\")  # Extraction du nom du premier nœud\n",
    "        node2 = concept.get(\"node_2\")  # Extraction du nom du deuxième nœud\n",
    "        relationship = concept.get(\"edge\")  # Extraction de l'attribut edge\n",
    "        \n",
    "        # Création des nœuds\n",
    "        graph_builder.create_node(node1)\n",
    "        graph_builder.create_node(node2)\n",
    "\n",
    "        # Créer une relation entre node1 et node2\n",
    "        graph_builder.create_relationship(node1, node2, relationship)\n",
    "\n",
    "    # Fermer la connexion à la base de données\n",
    "    graph_builder.close()\n",
    "\n",
    "\n"
   ]
  },
  {
   "cell_type": "code",
   "execution_count": 50,
   "metadata": {},
   "outputs": [],
   "source": [
    "# Utilisation de la fonction pour construire le graphe à partir de votre liste\n",
    "concept_list = [  # Remplacez par votre liste de concepts\n",
    "    {\n",
    "        \"node_1\": \"Project Management Institute\",\n",
    "        \"node_2\": \"Practice Standard\",\n",
    "        \"edge\": \"publishes\"  # L'attribut edge est ici\n",
    "    },\n",
    "    {\n",
    "        \"node_1\": \"Practice Standard\",\n",
    "        \"node_2\": \"Six Project Risk Management Processes\",\n",
    "        \"edge\": \"outlines\"  # L'attribut edge est ici\n",
    "    },\n",
    "    # Ajoutez d'autres concepts selon vos besoins\n",
    "]\n",
    "\n",
    "# Construire le graphe\n",
    "build_graph(concept_list)"
   ]
  },
  {
   "cell_type": "markdown",
   "metadata": {},
   "source": []
  }
 ],
 "metadata": {
  "kernelspec": {
   "display_name": "myenv",
   "language": "python",
   "name": "python3"
  },
  "language_info": {
   "codemirror_mode": {
    "name": "ipython",
    "version": 3
   },
   "file_extension": ".py",
   "mimetype": "text/x-python",
   "name": "python",
   "nbconvert_exporter": "python",
   "pygments_lexer": "ipython3",
   "version": "3.12.4"
  }
 },
 "nbformat": 4,
 "nbformat_minor": 2
}
